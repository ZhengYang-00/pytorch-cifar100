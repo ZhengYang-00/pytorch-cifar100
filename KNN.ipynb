{
  "nbformat": 4,
  "nbformat_minor": 0,
  "metadata": {
    "colab": {
      "name": "KNN.ipynb",
      "provenance": [],
      "collapsed_sections": [],
      "toc_visible": true,
      "authorship_tag": "ABX9TyNcppOAaryB2WPGIDRKOHSq",
      "include_colab_link": true
    },
    "kernelspec": {
      "name": "python3",
      "display_name": "Python 3"
    },
    "language_info": {
      "name": "python"
    }
  },
  "cells": [
    {
      "cell_type": "markdown",
      "metadata": {
        "id": "view-in-github",
        "colab_type": "text"
      },
      "source": [
        "<a href=\"https://colab.research.google.com/github/ZhengYang-00/pytorch-cifar100/blob/master/KNN.ipynb\" target=\"_parent\"><img src=\"https://colab.research.google.com/assets/colab-badge.svg\" alt=\"Open In Colab\"/></a>"
      ]
    },
    {
      "cell_type": "code",
      "metadata": {
        "id": "HHM1VET_UbZh",
        "colab": {
          "base_uri": "https://localhost:8080/"
        },
        "outputId": "d292f7b7-2f2e-4902-9c81-6c3e81e485da"
      },
      "source": [
        "from google.colab import drive\n",
        "drive.mount('/content/drive')"
      ],
      "execution_count": 1,
      "outputs": [
        {
          "output_type": "stream",
          "text": [
            "Mounted at /content/drive\n"
          ],
          "name": "stdout"
        }
      ]
    },
    {
      "cell_type": "code",
      "metadata": {
        "id": "QtNhJ7WIU2k3"
      },
      "source": [
        "import numpy as np\n",
        "from sklearn import neighbors\n",
        "from sklearn import ensemble\n",
        "from sklearn import metrics\n",
        "from sklearn import model_selection\n",
        "from skimage import io\n",
        "import matplotlib.pyplot as plt\n",
        "import os\n",
        "import time\n",
        "\n",
        "def readPictures(directory):\n",
        "    imgs=[]\n",
        "    for filename in os.listdir(directory):\n",
        "        img = io.imread(directory+filename,as_gray=True)\n",
        "        imgs.append(img)\n",
        "    imgs = np.array(imgs).reshape(len(imgs),-1)\n",
        "    return imgs"
      ],
      "execution_count": 3,
      "outputs": []
    },
    {
      "cell_type": "code",
      "metadata": {
        "colab": {
          "base_uri": "https://localhost:8080/"
        },
        "id": "Dgew3RS5VGGP",
        "outputId": "cdf74f01-f7c8-47a5-f6f6-a5f162817b46"
      },
      "source": [
        "k = 2\n",
        "r=[3,6]\n",
        "for i in range(k):\n",
        "  data = readPictures(\"/content/drive/MyDrive/Pictures/\"+str(r[i])+\"/\")\n",
        "  print(r[i])\n",
        "  label = i*np.ones(len(data))\n",
        "  x0_train,x0_test,y0_train,y0_test = model_selection.train_test_split(data,label,test_size=0.25)\n",
        "  if i==0:\n",
        "    X_train=x0_train\n",
        "    X_test=x0_test\n",
        "    Y_train=y0_train\n",
        "    Y_test=y0_test\n",
        "  else:\n",
        "    X_train=np.concatenate((X_train,x0_train))\n",
        "    X_test=np.concatenate((X_test,x0_test))\n",
        "    Y_train=np.concatenate((Y_train,y0_train))\n",
        "    Y_test=np.concatenate((Y_test,y0_test))\n",
        "\n",
        "print(X_train.shape)"
      ],
      "execution_count": 4,
      "outputs": [
        {
          "output_type": "stream",
          "text": [
            "3\n",
            "6\n",
            "(457, 2304)\n"
          ],
          "name": "stdout"
        }
      ]
    },
    {
      "cell_type": "code",
      "metadata": {
        "colab": {
          "base_uri": "https://localhost:8080/"
        },
        "id": "na6ty-gzW764",
        "outputId": "cf094cac-d050-473e-c5eb-a29d771b60f4"
      },
      "source": [
        "X_train = np.array(X_train).reshape(-1,48*48)\n",
        "Y_train = np.array(Y_train).reshape(-1)\n",
        "X_test = np.array(X_test).reshape(-1,48*48)\n",
        "Y_test = np.array(Y_test).reshape(-1)\n",
        "print(X_train.shape,Y_test.shape)"
      ],
      "execution_count": 5,
      "outputs": [
        {
          "output_type": "stream",
          "text": [
            "(457, 2304) (153,)\n"
          ],
          "name": "stdout"
        }
      ]
    },
    {
      "cell_type": "code",
      "metadata": {
        "colab": {
          "base_uri": "https://localhost:8080/"
        },
        "id": "_tmHCQ1RXApE",
        "outputId": "bcb6e038-6729-44ec-dd84-a5e806641497"
      },
      "source": [
        "knn=neighbors.KNeighborsClassifier(n_neighbors=5,metric='minkowski')\n",
        "t_begin = time.time()\n",
        "knn.fit(X_train,Y_train)\n",
        "print(\"training time cost=\",time.time()-t_begin,\"s\")\n",
        "\n",
        "##预测模型\n",
        "t_begin = time.time()\n",
        "Y_pred = knn.predict(X_test)\n",
        "print(\"testing time cost=\",time.time()-t_begin,\"s\")\n",
        "Y_prob = knn.predict_proba(X_test)\n",
        "\n",
        "\n",
        "##对模型进行评估\n",
        "acc = metrics.accuracy_score(Y_test,Y_pred)\n",
        "M = metrics.confusion_matrix(Y_test,Y_pred)    \n",
        "\n",
        "print(\"Accuracy=\"+str(acc))\n",
        "print(M.T)\n"
      ],
      "execution_count": 10,
      "outputs": [
        {
          "output_type": "stream",
          "text": [
            "training time cost= 0.053498268127441406 s\n",
            "testing time cost= 0.3315255641937256 s\n",
            "Accuracy=0.9019607843137255\n",
            "[[68  5]\n",
            " [10 70]]\n"
          ],
          "name": "stdout"
        }
      ]
    },
    {
      "cell_type": "code",
      "metadata": {
        "colab": {
          "base_uri": "https://localhost:8080/",
          "height": 366
        },
        "id": "2KSBdzjUZ-VL",
        "outputId": "58ae3923-6e2b-4055-8842-0436fcef292b"
      },
      "source": [
        "f1score = metrics.f1_score(Y_test,Y_pred)\n",
        "FPR, TPR, _ = metrics.roc_curve(Y_test,Y_prob[:,1])\n",
        "AUC = metrics.roc_auc_score(Y_test,Y_pred)\n",
        "print(\"Accuracy=%.4f\\tF1 score=%.4f\\tAUC=%.4f\" % (acc,f1score,AUC))\n",
        "\n",
        "plt.figure()\n",
        "plt.xlim([-0.02,1.02])\n",
        "plt.ylim([-0.02,1.02])\n",
        "plt.xlabel(\"False Positive Rate\")\n",
        "plt.ylabel(\"True Positive Rate\")\n",
        "plt.title(\"ROC Curve\")\n",
        "plt.plot(FPR, TPR, 'r')\n",
        "plt.show()\n",
        "\n",
        "TP = M[0,0]\n",
        "FP = M[1,0]\n",
        "FN = M[0,1]\n",
        "TN = M[1,1]\n",
        "TPR = TP / (TP+FN)\n",
        "TNR = TN / (TN+FP)\n",
        "FPR = FP / (FP+TN)\n",
        "FDR = FP / (FP+TP)\n",
        "print(M.T)\n",
        "print(\"TPR=%.4f\\tTNR=%.4f\\tFPR=%.4f\\tFDR=%.4f\\t\" % (TPR,TNR,FPR,FDR))"
      ],
      "execution_count": 11,
      "outputs": [
        {
          "output_type": "stream",
          "text": [
            "Accuracy=0.9020\tF1 score=0.9032\tAUC=0.9026\n"
          ],
          "name": "stdout"
        },
        {
          "output_type": "display_data",
          "data": {
            "image/png": "[encoded data removed]",
            "text/plain": [
              "<Figure size 432x288 with 1 Axes>"
            ]
          },
          "metadata": {
            "tags": [],
            "needs_background": "light"
          }
        },
        {
          "output_type": "stream",
          "text": [
            "[[68  5]\n",
            " [10 70]]\n",
            "TPR=0.8718\tTNR=0.9333\tFPR=0.0667\tFDR=0.0685\t\n"
          ],
          "name": "stdout"
        }
      ]
    },
    {
      "cell_type": "code",
      "metadata": {
        "colab": {
          "base_uri": "https://localhost:8080/"
        },
        "id": "HOxyTpSQarLz",
        "outputId": "73a26e3c-00a8-44e6-b518-cad8b66998a4"
      },
      "source": [
        "k = 5\n",
        "r=[0,3,4,7,9]\n",
        "for i in range(k):\n",
        "  data = readPictures(\"/content/drive/MyDrive/Pictures/\"+str(r[i])+\"/\")\n",
        "  print(r[i])\n",
        "  label = i*np.ones(len(data))\n",
        "  x0_train,x0_test,y0_train,y0_test = model_selection.train_test_split(data,label,test_size=0.25)\n",
        "  if i==0:\n",
        "    X_train=x0_train\n",
        "    X_test=x0_test\n",
        "    Y_train=y0_train\n",
        "    Y_test=y0_test\n",
        "  else:\n",
        "    X_train=np.concatenate((X_train,x0_train))\n",
        "    X_test=np.concatenate((X_test,x0_test))\n",
        "    Y_train=np.concatenate((Y_train,y0_train))\n",
        "    Y_test=np.concatenate((Y_test,y0_test))\n",
        "\n",
        "print(np.array(X_train).shape)"
      ],
      "execution_count": 12,
      "outputs": [
        {
          "output_type": "stream",
          "text": [
            "0\n",
            "3\n",
            "4\n",
            "7\n",
            "9\n",
            "(1132, 2304)\n"
          ],
          "name": "stdout"
        }
      ]
    },
    {
      "cell_type": "code",
      "metadata": {
        "colab": {
          "base_uri": "https://localhost:8080/"
        },
        "id": "cvrmaOnncRLj",
        "outputId": "26bba7a4-6b8a-41cd-de79-96d83e88fb75"
      },
      "source": [
        "X_train = np.array(X_train).reshape(-1,48*48)\n",
        "Y_train = np.array(Y_train).reshape(-1)\n",
        "X_test = np.array(X_test).reshape(-1,48*48)\n",
        "Y_test = np.array(Y_test).reshape(-1)\n",
        "print(X_train.shape,Y_test.shape)"
      ],
      "execution_count": 13,
      "outputs": [
        {
          "output_type": "stream",
          "text": [
            "(1132, 2304) (378,)\n"
          ],
          "name": "stdout"
        }
      ]
    },
    {
      "cell_type": "code",
      "metadata": {
        "colab": {
          "base_uri": "https://localhost:8080/"
        },
        "id": "UBXxhCqlcR1H",
        "outputId": "6dcbbcf2-4559-4ad0-b0c4-1499d0f5c336"
      },
      "source": [
        "knn=neighbors.KNeighborsClassifier(n_neighbors=5,metric='cosine')\n",
        "t_begin = time.time()\n",
        "knn.fit(X_train,Y_train)\n",
        "print(\"training time cost=\",time.time()-t_begin,\"s\")\n",
        "\n",
        "##预测模型\n",
        "t_begin = time.time()\n",
        "Y_pred = knn.predict(X_test)\n",
        "print(\"testing time cost=\",time.time()-t_begin,\"s\")\n",
        "Y_prob = knn.predict_proba(X_test)\n",
        "\n",
        "\n",
        "##对模型进行评估\n",
        "acc = metrics.accuracy_score(Y_test,Y_pred)\n",
        "M = metrics.confusion_matrix(Y_test,Y_pred)    \n",
        "\n",
        "print(\"Accuracy=\"+str(acc))\n",
        "print(M.T)"
      ],
      "execution_count": 22,
      "outputs": [
        {
          "output_type": "stream",
          "text": [
            "training time cost= 0.007756471633911133 s\n",
            "testing time cost= 0.13213419914245605 s\n",
            "Accuracy=0.7486772486772487\n",
            "[[70  1  8 16 11]\n",
            " [ 0 58  8  3  2]\n",
            " [ 0 14 54  2  0]\n",
            " [ 2  3  4 45  6]\n",
            " [ 3  2  1  9 56]]\n"
          ],
          "name": "stdout"
        }
      ]
    },
    {
      "cell_type": "code",
      "metadata": {
        "colab": {
          "base_uri": "https://localhost:8080/"
        },
        "id": "3ilBA85xd0JU",
        "outputId": "58629fdb-9512-429d-8f7b-f621f810c2ea"
      },
      "source": [
        "k = 10\n",
        "for i in range(k):\n",
        "  data = readPictures(\"/content/drive/MyDrive/Pictures/\"+str(i)+\"/\")\n",
        "  print(i)\n",
        "  label = i*np.ones(len(data))\n",
        "  x0_train,x0_test,y0_train,y0_test = model_selection.train_test_split(data,label,test_size=0.25)\n",
        "  if i==0:\n",
        "    X_train=x0_train\n",
        "    X_test=x0_test\n",
        "    Y_train=y0_train\n",
        "    Y_test=y0_test\n",
        "  else:\n",
        "    X_train=np.concatenate((X_train,x0_train))\n",
        "    X_test=np.concatenate((X_test,x0_test))\n",
        "    Y_train=np.concatenate((Y_train,y0_train))\n",
        "    Y_test=np.concatenate((Y_test,y0_test))\n",
        "\n",
        "print(np.array(X_train).shape)"
      ],
      "execution_count": 23,
      "outputs": [
        {
          "output_type": "stream",
          "text": [
            "0\n",
            "1\n",
            "2\n",
            "3\n",
            "4\n",
            "5\n",
            "6\n",
            "7\n",
            "8\n",
            "9\n",
            "(2257, 2304)\n"
          ],
          "name": "stdout"
        }
      ]
    },
    {
      "cell_type": "code",
      "metadata": {
        "colab": {
          "base_uri": "https://localhost:8080/"
        },
        "id": "xO1wANzvfara",
        "outputId": "bbba74c3-45ec-48bd-88f7-1df45beea5d6"
      },
      "source": [
        "X_train = np.array(X_train).reshape(-1,48*48)\n",
        "Y_train = np.array(Y_train).reshape(-1)\n",
        "X_test = np.array(X_test).reshape(-1,48*48)\n",
        "Y_test = np.array(Y_test).reshape(-1)\n",
        "print(X_train.shape,Y_test.shape)"
      ],
      "execution_count": 24,
      "outputs": [
        {
          "output_type": "stream",
          "text": [
            "(2257, 2304) (753,)\n"
          ],
          "name": "stdout"
        }
      ]
    },
    {
      "cell_type": "code",
      "metadata": {
        "colab": {
          "base_uri": "https://localhost:8080/"
        },
        "id": "2laeoHQmfe02",
        "outputId": "c4345c50-eda9-499e-9d72-358be51b7df9"
      },
      "source": [
        "knn=neighbors.KNeighborsClassifier(n_neighbors=10)\n",
        "t_begin = time.time()\n",
        "knn.fit(X_train,Y_train)\n",
        "print(\"training time cost=\",time.time()-t_begin,\"s\")\n",
        "\n",
        "##预测模型\n",
        "t_begin = time.time()\n",
        "Y_pred = knn.predict(X_test)\n",
        "print(\"testing time cost=\",time.time()-t_begin,\"s\")\n",
        "Y_prob = knn.predict_proba(X_test)\n",
        "\n",
        "\n",
        "##对模型进行评估\n",
        "acc = metrics.accuracy_score(Y_test,Y_pred)\n",
        "M = metrics.confusion_matrix(Y_test,Y_pred)    \n",
        "\n",
        "print(\"Accuracy=\"+str(acc))\n",
        "print(M.T)"
      ],
      "execution_count": 27,
      "outputs": [
        {
          "output_type": "stream",
          "text": [
            "training time cost= 0.5331211090087891 s\n",
            "testing time cost= 10.115207433700562 s\n",
            "Accuracy=0.5537848605577689\n",
            "[[67  7  7  4  6  6  5  7  8  7]\n",
            " [ 3 62 14  5 22  2  3  8  9  6]\n",
            " [ 0  1 22  6  3  1  6  3  2  6]\n",
            " [ 0  1  7 49  3  1  0  1  0  2]\n",
            " [ 0  3 10  4 36  1  1  0  0  2]\n",
            " [ 0  0  1  1  0 43  1  0 12  1]\n",
            " [ 1  0  4  0  0  3 39  6  4  2]\n",
            " [ 1  0  6  7  3  4 10 38  8  5]\n",
            " [ 0  0  2  2  0  6  0  0 18  1]\n",
            " [ 3  1  2  0  2  8 10 12 14 43]]\n"
          ],
          "name": "stdout"
        }
      ]
    }
  ]
}